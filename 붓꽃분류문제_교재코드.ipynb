{
  "nbformat": 4,
  "nbformat_minor": 0,
  "metadata": {
    "colab": {
      "provenance": [],
      "authorship_tag": "ABX9TyMr+HkV4PxOgobIhqZxF2AJ",
      "include_colab_link": true
    },
    "kernelspec": {
      "name": "python3",
      "display_name": "Python 3"
    },
    "language_info": {
      "name": "python"
    }
  },
  "cells": [
    {
      "cell_type": "markdown",
      "metadata": {
        "id": "view-in-github",
        "colab_type": "text"
      },
      "source": [
        "<a href=\"https://colab.research.google.com/github/smu-linear-algebra2/hs/blob/main/%EB%B6%93%EA%BD%83%EB%B6%84%EB%A5%98%EB%AC%B8%EC%A0%9C_%EA%B5%90%EC%9E%AC%EC%BD%94%EB%93%9C.ipynb\" target=\"_parent\"><img src=\"https://colab.research.google.com/assets/colab-badge.svg\" alt=\"Open In Colab\"/></a>"
      ]
    },
    {
      "cell_type": "code",
      "execution_count": 1,
      "metadata": {
        "id": "fzKik6o--ru9"
      },
      "outputs": [],
      "source": [
        "import matplotlib.pyplot as plt\n",
        "import numpy as np\n",
        "import pandas as pd"
      ]
    },
    {
      "cell_type": "code",
      "source": [
        "from google.colab import drive\n",
        "drive.mount('/content/drive')"
      ],
      "metadata": {
        "colab": {
          "base_uri": "https://localhost:8080/"
        },
        "id": "P0MD-p4t-9Y-",
        "outputId": "b0f222ca-6298-4c40-f8b4-9d50e7915dcd"
      },
      "execution_count": 2,
      "outputs": [
        {
          "output_type": "stream",
          "name": "stdout",
          "text": [
            "Mounted at /content/drive\n"
          ]
        }
      ]
    },
    {
      "cell_type": "code",
      "source": [
        "# 파일 경로\n",
        "file_path = '/content/drive/My Drive/data/Iris.csv'\n",
        "\n",
        "# 파일 불러오기\n",
        "data = pd.read_csv(file_path)"
      ],
      "metadata": {
        "id": "e2USHMuC_Jb6"
      },
      "execution_count": 3,
      "outputs": []
    },
    {
      "cell_type": "code",
      "source": [
        "# 입력과 출력 분리\n",
        "X = data.drop(['Species', 'Id'], axis=1)\n",
        "Y = data['Species']"
      ],
      "metadata": {
        "id": "OZWx_m2XDBAa"
      },
      "execution_count": 4,
      "outputs": []
    },
    {
      "cell_type": "code",
      "source": [
        "X = X.to_numpy()"
      ],
      "metadata": {
        "id": "fqEFIABFMv9t"
      },
      "execution_count": 6,
      "outputs": []
    },
    {
      "cell_type": "code",
      "source": [
        "X"
      ],
      "metadata": {
        "id": "LMQ6RxeCM2RE"
      },
      "execution_count": null,
      "outputs": []
    },
    {
      "cell_type": "code",
      "source": [
        "X.shape"
      ],
      "metadata": {
        "colab": {
          "base_uri": "https://localhost:8080/"
        },
        "id": "athaDRiEDJ-D",
        "outputId": "69d87b2d-90ba-46fa-9ee9-b25e1732910d"
      },
      "execution_count": null,
      "outputs": [
        {
          "output_type": "execute_result",
          "data": {
            "text/plain": [
              "(150, 4)"
            ]
          },
          "metadata": {},
          "execution_count": 44
        }
      ]
    },
    {
      "cell_type": "code",
      "source": [
        "X.head()"
      ],
      "metadata": {
        "id": "0-bOu6KwDM-T"
      },
      "execution_count": null,
      "outputs": []
    },
    {
      "cell_type": "code",
      "source": [
        "Y.head()"
      ],
      "metadata": {
        "colab": {
          "base_uri": "https://localhost:8080/"
        },
        "id": "sWPcRMK1DZvF",
        "outputId": "b2024ea7-9a10-45e8-a089-32a37e6424c7"
      },
      "execution_count": null,
      "outputs": [
        {
          "output_type": "execute_result",
          "data": {
            "text/plain": [
              "0    Iris-setosa\n",
              "1    Iris-setosa\n",
              "2    Iris-setosa\n",
              "3    Iris-setosa\n",
              "4    Iris-setosa\n",
              "Name: Species, dtype: object"
            ]
          },
          "metadata": {},
          "execution_count": 37
        }
      ]
    },
    {
      "cell_type": "code",
      "source": [
        "Y.shape"
      ],
      "metadata": {
        "colab": {
          "base_uri": "https://localhost:8080/"
        },
        "id": "eP-2C7Y-Ddah",
        "outputId": "248072fd-1c16-489f-f1b5-0e5a062ebd9b"
      },
      "execution_count": null,
      "outputs": [
        {
          "output_type": "execute_result",
          "data": {
            "text/plain": [
              "(150,)"
            ]
          },
          "metadata": {},
          "execution_count": 12
        }
      ]
    },
    {
      "cell_type": "code",
      "source": [
        "Y.unique()"
      ],
      "metadata": {
        "colab": {
          "base_uri": "https://localhost:8080/"
        },
        "id": "t-ajAAapD6jb",
        "outputId": "4facebce-b228-4a34-bf0c-a3060e97ce39"
      },
      "execution_count": 8,
      "outputs": [
        {
          "output_type": "execute_result",
          "data": {
            "text/plain": [
              "array(['Iris-setosa', 'Iris-versicolor', 'Iris-virginica'], dtype=object)"
            ]
          },
          "metadata": {},
          "execution_count": 8
        }
      ]
    },
    {
      "cell_type": "code",
      "source": [
        "# one_hot_encoded_y = pd.get_dummies(Y)"
      ],
      "metadata": {
        "id": "16XVm4JOEkOu"
      },
      "execution_count": null,
      "outputs": []
    },
    {
      "cell_type": "code",
      "source": [
        "one_hot_encoded_y = pd.get_dummies(Y, dtype=int).to_numpy()"
      ],
      "metadata": {
        "id": "duikSl-2J40u"
      },
      "execution_count": 9,
      "outputs": []
    },
    {
      "cell_type": "code",
      "source": [
        "one_hot_encoded_y.head()"
      ],
      "metadata": {
        "colab": {
          "base_uri": "https://localhost:8080/",
          "height": 147
        },
        "id": "lORlrBc1EpQ-",
        "outputId": "b635e13a-44fd-4618-8eca-2daeab9e493b"
      },
      "execution_count": null,
      "outputs": [
        {
          "output_type": "error",
          "ename": "AttributeError",
          "evalue": "'numpy.ndarray' object has no attribute 'head'",
          "traceback": [
            "\u001b[0;31m---------------------------------------------------------------------------\u001b[0m",
            "\u001b[0;31mAttributeError\u001b[0m                            Traceback (most recent call last)",
            "\u001b[0;32m<ipython-input-34-5f9f9a7e3a9f>\u001b[0m in \u001b[0;36m<cell line: 1>\u001b[0;34m()\u001b[0m\n\u001b[0;32m----> 1\u001b[0;31m \u001b[0mone_hot_encoded_y\u001b[0m\u001b[0;34m.\u001b[0m\u001b[0mhead\u001b[0m\u001b[0;34m(\u001b[0m\u001b[0;34m)\u001b[0m\u001b[0;34m\u001b[0m\u001b[0;34m\u001b[0m\u001b[0m\n\u001b[0m",
            "\u001b[0;31mAttributeError\u001b[0m: 'numpy.ndarray' object has no attribute 'head'"
          ]
        }
      ]
    },
    {
      "cell_type": "code",
      "source": [
        "one_hot_encoded_y"
      ],
      "metadata": {
        "id": "MeZzhy64JiEk"
      },
      "execution_count": null,
      "outputs": []
    },
    {
      "cell_type": "code",
      "source": [
        "# 2. 수동으로 섞기 (numpy)\n",
        "indices = np.arange(X.shape[0])\n",
        "np.random.shuffle(indices)\n",
        "X_shuffled = X[indices]\n",
        "Y_shuffled = one_hot_encoded_y[indices]"
      ],
      "metadata": {
        "id": "s013aOHwTf0e"
      },
      "execution_count": 14,
      "outputs": []
    },
    {
      "cell_type": "code",
      "source": [
        "X_shuffled"
      ],
      "metadata": {
        "id": "XL8fpMXUUWgw"
      },
      "execution_count": null,
      "outputs": []
    },
    {
      "cell_type": "code",
      "source": [
        "Y_shuffled"
      ],
      "metadata": {
        "id": "1emIlwbQUT16"
      },
      "execution_count": null,
      "outputs": []
    },
    {
      "cell_type": "code",
      "source": [
        "# 활성화함수\n",
        "def sigmoid(x):\n",
        "  return 1/(1+np.exp(-x))"
      ],
      "metadata": {
        "id": "wR2BK2av_fdG"
      },
      "execution_count": 11,
      "outputs": []
    },
    {
      "cell_type": "code",
      "source": [
        "def sigmoid_derivative(x):\n",
        "  return sigmoid(x)*(1-sigmoid(x))"
      ],
      "metadata": {
        "id": "U1yn_QPTIATN"
      },
      "execution_count": 12,
      "outputs": []
    },
    {
      "cell_type": "code",
      "source": [
        "def softmax(x):\n",
        "    exp_x = np.exp(x - np.max(x)) # overflow 방지\n",
        "    return exp_x / np.sum(exp_x, axis=0, keepdims=True)"
      ],
      "metadata": {
        "id": "HRF-JbZNXG9F"
      },
      "execution_count": 16,
      "outputs": []
    },
    {
      "cell_type": "code",
      "source": [
        "def softmax_derivative(x):\n",
        "    # 소프트맥스의 도함수는 간단히 y(1-y)가 됩니다. 여기서 y는 소프트맥스의 출력입니다.\n",
        "    return x * (1 - x)"
      ],
      "metadata": {
        "id": "3wagUFLIXLGv"
      },
      "execution_count": 17,
      "outputs": []
    },
    {
      "cell_type": "code",
      "source": [
        "def feed_forward(x, W1, W2, b1, b2):\n",
        "    a1 = x\n",
        "    z2 = np.dot(W1, a1) + b1\n",
        "    a2 = sigmoid(z2)\n",
        "    z3 = np.dot(W2, a2) + b2\n",
        "    a3 = softmax(z3)  # 소프트맥스 함수를 사용\n",
        "    return a1, a2, a3, z2, z3"
      ],
      "metadata": {
        "id": "9KyirWLmXT1R"
      },
      "execution_count": 18,
      "outputs": []
    },
    {
      "cell_type": "code",
      "source": [
        "# 신경망은 총 3개의 레이어로 구성되어\n",
        "# 입력 레이어의 노드 개수 4, 히든레이어 개수4, 출력레이어 개수 3\n",
        "node_size = {'input_layer_size':4,\n",
        "             'hidden_layer_size':8,\n",
        "             'output_layer_size':3\n",
        "             }\n",
        "\n",
        "learning_rate = 1.0\n",
        "\n",
        "# 초기 가중치 값으로 무작위 값을 사용\n",
        "# 각 넘파이 배열 생성 시 아규먼트에 포함되는 레이어 순서를 봐주면 된다.\n",
        "W2 = np.random.random((node_size['output_layer_size'], node_size['hidden_layer_size']))\n",
        "W1 = np.random.random((node_size['hidden_layer_size'], node_size['input_layer_size']))\n",
        "b2 = np.random.random(node_size['output_layer_size'])\n",
        "b1 = np.random.random(node_size['hidden_layer_size'])\n",
        "\n",
        "count = 0\n",
        "max_iteration = 1000\n",
        "dataset_size = len(Y)\n",
        "list_average_cost = []\n",
        "\n",
        "while count < max_iteration:\n",
        "    dW2 = np.zeros((node_size['output_layer_size'], node_size['hidden_layer_size']))\n",
        "    dW1 = np.zeros((node_size['hidden_layer_size'], node_size['input_layer_size']))\n",
        "    db2 = np.zeros(node_size['output_layer_size'])\n",
        "    db1 = np.zeros(node_size['hidden_layer_size'])\n",
        "    average_cost = 0\n",
        "    for x, y in zip(X_shuffled, Y_shuffled):\n",
        "        a1, a2, a3, z2, z3 = feed_forward(x, W1, W2, b1, b2)\n",
        "        # 역전파 알고리즘을 실행\n",
        "        delta3 = -(y - a3) * softmax_derivative(a3)\n",
        "        average_cost += np.linalg.norm((y - a3), 2) / dataset_size\n",
        "        delta2 = np.dot(W2.T, delta3) * sigmoid_derivative(z2)\n",
        "        dW2 += np.dot(delta3[:, np.newaxis], np.transpose(a2[:, np.newaxis])) / dataset_size\n",
        "        db2 += delta3 / dataset_size\n",
        "        dW1 += np.dot(delta2[:, np.newaxis], np.transpose(a1[:, np.newaxis])) / dataset_size\n",
        "        db1 += delta2 / dataset_size\n",
        "    # 역전파 알고리즘 실행결과를 사용하여 신경망의 가중치와 편향을 업데이트한다.\n",
        "    W2 += -learning_rate * dW2\n",
        "    b2 += -learning_rate * db2\n",
        "    W1 += -learning_rate * dW1\n",
        "    b1 += -learning_rate * db1\n",
        "    # 매 반복시 측정된 비율을 리스트에 저장\n",
        "    list_average_cost.append(average_cost)\n",
        "    if count%100 == 0:\n",
        "      print('{}/{} cost:{}'.format(count,max_iteration,average_cost))\n",
        "    count += 1\n",
        "# 반복횟수에 대비 비용그래프로 그린다.\n",
        "Figure,ax = plt.subplots(1,1)\n",
        "ax.plot(list_average_cost)\n",
        "ax.set_ylabel('Average cost')\n",
        "ax.set_xlabel('Iteration number')\n",
        "plt.show()\n",
        "\n",
        "for x,y in zip(X_shuffled,Y_shuffled):\n",
        "  a1,a2,a3,z2,z3 = feed_forward(x,W1,W2,b1,b2)\n",
        "  print(y)\n",
        "  print(a3)"
      ],
      "metadata": {
        "colab": {
          "base_uri": "https://localhost:8080/",
          "height": 1000
        },
        "id": "En-h-LX8_h-f",
        "outputId": "2f1458f9-27b9-44c4-ad93-c35116c33695"
      },
      "execution_count": 28,
      "outputs": [
        {
          "output_type": "stream",
          "name": "stdout",
          "text": [
            "0/1000 cost:0.8257659623591187\n",
            "100/1000 cost:0.6175991578844403\n",
            "200/1000 cost:0.5462179279720063\n",
            "300/1000 cost:0.5217670650644085\n",
            "400/1000 cost:0.4944530596629108\n",
            "500/1000 cost:0.4632569514287705\n",
            "600/1000 cost:0.46896133345594404\n",
            "700/1000 cost:0.4594057892569872\n",
            "800/1000 cost:0.4506671447241663\n",
            "900/1000 cost:0.4371795407304548\n"
          ]
        },
        {
          "output_type": "display_data",
          "data": {
            "text/plain": [
              "<Figure size 640x480 with 1 Axes>"
            ],
            "image/png": "[encoded data removed]"
          },
          "metadata": {}
        },
        {
          "output_type": "stream",
          "name": "stdout",
          "text": [
            "[1 0 0]\n",
            "[0.83059524 0.16777345 0.00163131]\n",
            "[0 0 1]\n",
            "[0.00271299 0.28710962 0.71017739]\n",
            "[1 0 0]\n",
            "[0.83164643 0.16673796 0.00161561]\n",
            "[0 0 1]\n",
            "[0.00205109 0.25744399 0.74050492]\n",
            "[0 0 1]\n",
            "[0.00179217 0.24400641 0.75420142]\n",
            "[0 0 1]\n",
            "[0.00178646 0.24369858 0.75451495]\n",
            "[0 1 0]\n",
            "[0.01600221 0.52388887 0.46010892]\n",
            "[1 0 0]\n",
            "[0.83176222 0.16662629 0.00161149]\n",
            "[0 0 1]\n",
            "[0.00196962 0.25332118 0.7447092 ]\n",
            "[1 0 0]\n",
            "[0.83244583 0.16595926 0.00159491]\n",
            "[1 0 0]\n",
            "[0.82995364 0.16840389 0.00164247]\n",
            "[0 1 0]\n",
            "[0.00216275 0.26285138 0.73498587]\n",
            "[0 0 1]\n",
            "[0.00183258 0.24619147 0.75197595]\n",
            "[0 0 1]\n",
            "[0.00177425 0.24301825 0.7552075 ]\n",
            "[0 1 0]\n",
            "[0.0085504  0.43311534 0.55833427]\n",
            "[0 1 0]\n",
            "[0.01036795 0.46082726 0.5288048 ]\n",
            "[0 0 1]\n",
            "[0.00179158 0.2439639  0.75424452]\n",
            "[1 0 0]\n",
            "[0.83082787 0.16754275 0.00162938]\n",
            "[0 1 0]\n",
            "[0.02833018 0.60662783 0.36504199]\n",
            "[0 0 1]\n",
            "[0.00187677 0.2485012  0.74962204]\n",
            "[0 0 1]\n",
            "[0.00179613 0.24423125 0.75397262]\n",
            "[0 1 0]\n",
            "[0.02408825 0.58390171 0.39201005]\n",
            "[0 1 0]\n",
            "[0.04756968 0.67251352 0.27991679]\n",
            "[0 1 0]\n",
            "[0.01634569 0.52749194 0.45616237]\n",
            "[0 1 0]\n",
            "[0.03564895 0.63754144 0.32680961]\n",
            "[0 0 1]\n",
            "[0.00176387 0.24246553 0.7557706 ]\n",
            "[0 0 1]\n",
            "[0.00183553 0.24634998 0.75181449]\n",
            "[0 0 1]\n",
            "[0.00187256 0.24831176 0.74981568]\n",
            "[1 0 0]\n",
            "[0.83143798 0.16694371 0.00161831]\n",
            "[1 0 0]\n",
            "[0.83213305 0.16626538 0.00160156]\n",
            "[1 0 0]\n",
            "[0.83247296 0.16593263 0.0015944 ]\n",
            "[0 1 0]\n",
            "[0.01836696 0.54472021 0.43691283]\n",
            "[0 1 0]\n",
            "[0.0565883  0.69064712 0.25276458]\n",
            "[1 0 0]\n",
            "[0.83249718 0.16590886 0.00159396]\n",
            "[0 1 0]\n",
            "[0.00442902 0.34495944 0.65061154]\n",
            "[1 0 0]\n",
            "[0.83250563 0.16590234 0.00159203]\n",
            "[0 1 0]\n",
            "[0.07879524 0.7180531  0.20315166]\n",
            "[1 0 0]\n",
            "[0.83094259 0.16743027 0.00162714]\n",
            "[1 0 0]\n",
            "[0.83167145 0.16671734 0.00161121]\n",
            "[0 0 1]\n",
            "[0.00202701 0.25617909 0.7417939 ]\n",
            "[1 0 0]\n",
            "[0.83077562 0.16759218 0.00163221]\n",
            "[1 0 0]\n",
            "[0.82530022 0.17294717 0.0017526 ]\n",
            "[0 1 0]\n",
            "[0.00262467 0.28344918 0.71392615]\n",
            "[1 0 0]\n",
            "[0.83119299 0.16718828 0.00161873]\n",
            "[0 1 0]\n",
            "[0.00288528 0.293912   0.70320272]\n",
            "[0 0 1]\n",
            "[0.00205883 0.25782519 0.74011598]\n",
            "[0 1 0]\n",
            "[0.0551472  0.68818783 0.25666497]\n",
            "[1 0 0]\n",
            "[0.8322317  0.16616911 0.00159919]\n",
            "[1 0 0]\n",
            "[0.8313521  0.16702517 0.00162273]\n",
            "[0 1 0]\n",
            "[0.00552434 0.37338599 0.62108967]\n",
            "[1 0 0]\n",
            "[0.83254559 0.16586303 0.00159138]\n",
            "[0 1 0]\n",
            "[0.02552305 0.59200373 0.38247322]\n",
            "[0 1 0]\n",
            "[0.02321542 0.57867171 0.39811286]\n",
            "[0 0 1]\n",
            "[0.00178229 0.24347112 0.75474659]\n",
            "[0 1 0]\n",
            "[0.00532228 0.36850811 0.62616962]\n",
            "[1 0 0]\n",
            "[0.83266692 0.16574418 0.0015889 ]\n",
            "[1 0 0]\n",
            "[0.83230479 0.16609798 0.00159723]\n",
            "[1 0 0]\n",
            "[0.8327152  0.16569716 0.00158764]\n",
            "[1 0 0]\n",
            "[0.83076079 0.16760312 0.0016361 ]\n",
            "[0 0 1]\n",
            "[0.00185996 0.24764692 0.75049312]\n",
            "[0 1 0]\n",
            "[0.00901327 0.44072757 0.55025917]\n",
            "[1 0 0]\n",
            "[0.83142298 0.16695775 0.00161928]\n",
            "[0 0 1]\n",
            "[0.00226151 0.26750755 0.73023095]\n",
            "[0 1 0]\n",
            "[0.04512311 0.66642974 0.28844715]\n",
            "[0 0 1]\n",
            "[0.00244097 0.27560258 0.72195646]\n",
            "[1 0 0]\n",
            "[0.83235077 0.16605216 0.00159707]\n",
            "[1 0 0]\n",
            "[0.8324225  0.16598565 0.00159185]\n",
            "[0 1 0]\n",
            "[0.00774984 0.41938909 0.57286107]\n",
            "[0 0 1]\n",
            "[0.00183668 0.24642082 0.7517425 ]\n",
            "[0 1 0]\n",
            "[0.01220737 0.48457686 0.50321577]\n",
            "[0 0 1]\n",
            "[0.00231444 0.26996508 0.72772048]\n",
            "[0 1 0]\n",
            "[0.00750985 0.41501415 0.57747599]\n",
            "[0 0 1]\n",
            "[0.00204181 0.2569957  0.74096249]\n",
            "[0 1 0]\n",
            "[0.03756249 0.64426637 0.31817113]\n",
            "[0 0 1]\n",
            "[0.00197934 0.25372045 0.7443002 ]\n",
            "[1 0 0]\n",
            "[0.83147736 0.16691177 0.00161087]\n",
            "[1 0 0]\n",
            "[0.8321525  0.16624548 0.00160202]\n",
            "[0 1 0]\n",
            "[0.00583286 0.38054442 0.61362272]\n",
            "[0 1 0]\n",
            "[0.00277871 0.28976853 0.70745276]\n",
            "[1 0 0]\n",
            "[0.83221078 0.16619151 0.0015977 ]\n",
            "[1 0 0]\n",
            "[0.83176222 0.16662629 0.00161149]\n",
            "[0 0 1]\n",
            "[0.00180161 0.24452601 0.75367238]\n",
            "[0 0 1]\n",
            "[0.00190489 0.2500084  0.7480867 ]\n",
            "[1 0 0]\n",
            "[0.83182034 0.16656837 0.00161129]\n",
            "[1 0 0]\n",
            "[0.83252369 0.16587918 0.00159713]\n",
            "[0 1 0]\n",
            "[0.00379507 0.32591865 0.67028628]\n",
            "[0 1 0]\n",
            "[0.03046993 0.61670622 0.35282385]\n",
            "[0 0 1]\n",
            "[0.00202702 0.25625204 0.74172094]\n",
            "[1 0 0]\n",
            "[0.83289505 0.16552091 0.00158404]\n",
            "[1 0 0]\n",
            "[0.8324341  0.16597145 0.00159444]\n",
            "[0 1 0]\n",
            "[0.02520147 0.59040452 0.38439401]\n",
            "[0 0 1]\n",
            "[0.00195527 0.25258525 0.74545947]\n",
            "[0 1 0]\n",
            "[0.00547445 0.37211291 0.62241264]\n",
            "[1 0 0]\n",
            "[0.83155437 0.16682169 0.00162394]\n",
            "[0 0 1]\n",
            "[0.00210082 0.25987341 0.73802577]\n",
            "[1 0 0]\n",
            "[0.83302171 0.16539779 0.0015805 ]\n",
            "[0 1 0]\n",
            "[0.01174471 0.47897636 0.50927893]\n",
            "[0 0 1]\n",
            "[0.00176696 0.24260338 0.75562967]\n",
            "[0 1 0]\n",
            "[0.04471993 0.66534167 0.2899384 ]\n",
            "[1 0 0]\n",
            "[0.8323045 0.1660951 0.0016004]\n",
            "[1 0 0]\n",
            "[0.83266435 0.16574871 0.00158695]\n",
            "[0 0 1]\n",
            "[0.00190501 0.25002153 0.74807346]\n",
            "[0 0 1]\n",
            "[0.00184577 0.24689634 0.75125788]\n",
            "[0 1 0]\n",
            "[0.00783638 0.42092162 0.57124201]\n",
            "[0 0 1]\n",
            "[0.00175684 0.24207724 0.75616592]\n",
            "[0 0 1]\n",
            "[0.00245641 0.27628655 0.72125704]\n",
            "[0 1 0]\n",
            "[0.00580672 0.37982679 0.61436649]\n",
            "[0 0 1]\n",
            "[0.00233438 0.27087934 0.72678627]\n",
            "[0 0 1]\n",
            "[0.00218927 0.26416559 0.73364515]\n",
            "[0 1 0]\n",
            "[0.00333566 0.31063252 0.68603182]\n",
            "[0 0 1]\n",
            "[0.00174024 0.241154   0.75710576]\n",
            "[0 0 1]\n",
            "[0.00189347 0.24937556 0.74873097]\n",
            "[0 0 1]\n",
            "[0.00181442 0.24516203 0.75302356]\n",
            "[1 0 0]\n",
            "[0.83276481 0.16564772 0.00158747]\n",
            "[0 0 1]\n",
            "[0.0018087  0.24488903 0.75330227]\n",
            "[0 1 0]\n",
            "[0.09869868 0.72996743 0.17133389]\n",
            "[0 1 0]\n",
            "[0.00588385 0.38168767 0.61242849]\n",
            "[0 1 0]\n",
            "[0.07121356 0.71079919 0.21798725]\n",
            "[1 0 0]\n",
            "[0.83039881 0.16796798 0.00163322]\n",
            "[1 0 0]\n",
            "[0.83297791 0.16544081 0.00158128]\n",
            "[1 0 0]\n",
            "[0.83152744 0.16685723 0.00161533]\n",
            "[0 0 1]\n",
            "[0.00189223 0.24933812 0.74876966]\n",
            "[0 0 1]\n",
            "[0.00177564 0.24310118 0.75512317]\n",
            "[0 0 1]\n",
            "[0.00254292 0.28001886 0.71743822]\n",
            "[0 1 0]\n",
            "[0.00782883 0.42076992 0.57140125]\n",
            "[0 1 0]\n",
            "[0.24212855 0.68850878 0.06936267]\n",
            "[0 1 0]\n",
            "[0.00642992 0.39367872 0.59989136]\n",
            "[0 1 0]\n",
            "[0.02764492 0.60322983 0.36912525]\n",
            "[0 1 0]\n",
            "[0.00831963 0.42919331 0.56248705]\n",
            "[0 1 0]\n",
            "[0.01718493 0.53495912 0.44785595]\n",
            "[0 1 0]\n",
            "[0.03019061 0.61552034 0.35428905]\n",
            "[0 0 1]\n",
            "[0.00172506 0.24031274 0.75796221]\n",
            "[0 0 1]\n",
            "[0.00205433 0.2576101  0.74033557]\n",
            "[1 0 0]\n",
            "[0.83075163 0.16761656 0.0016318 ]\n",
            "[0 1 0]\n",
            "[0.01537593 0.518495   0.46612908]\n",
            "[1 0 0]\n",
            "[0.83093864 0.16743474 0.00162662]\n",
            "[1 0 0]\n",
            "[0.83297279 0.16544714 0.00158006]\n",
            "[1 0 0]\n",
            "[0.83206277 0.16633667 0.00160057]\n",
            "[0 0 1]\n",
            "[0.00187677 0.2485012  0.74962204]\n",
            "[0 0 1]\n",
            "[0.00183285 0.24620536 0.75196179]\n",
            "[1 0 0]\n",
            "[0.83219048 0.16621126 0.00159827]\n",
            "[0 0 1]\n",
            "[0.00179806 0.24432739 0.75387455]\n",
            "[1 0 0]\n",
            "[0.82986981 0.16847614 0.00165405]\n",
            "[0 0 1]\n",
            "[0.00190906 0.25022797 0.74786297]\n",
            "[0 0 1]\n",
            "[0.00191542 0.25054263 0.74754195]\n",
            "[1 0 0]\n",
            "[0.83176222 0.16662629 0.00161149]\n",
            "[0 0 1]\n",
            "[0.00203114 0.25645029 0.74151856]\n",
            "[0 1 0]\n",
            "[0.0078836  0.42162472 0.57049168]\n",
            "[1 0 0]\n",
            "[0.83277638 0.1656379  0.00158572]\n",
            "[0 1 0]\n",
            "[0.23315673 0.6939606  0.07288267]\n"
          ]
        }
      ]
    }
  ]
}