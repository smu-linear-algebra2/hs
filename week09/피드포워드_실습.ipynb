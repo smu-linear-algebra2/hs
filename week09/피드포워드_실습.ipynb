{
  "nbformat": 4,
  "nbformat_minor": 0,
  "metadata": {
    "colab": {
      "provenance": [],
      "authorship_tag": "ABX9TyMEwGtV1wJ6TGv5AhCDlxC9",
      "include_colab_link": true
    },
    "kernelspec": {
      "name": "python3",
      "display_name": "Python 3"
    },
    "language_info": {
      "name": "python"
    }
  },
  "cells": [
    {
      "cell_type": "markdown",
      "metadata": {
        "id": "view-in-github",
        "colab_type": "text"
      },
      "source": [
        "<a href=\"https://colab.research.google.com/github/smu-linear-algebra2/hs/blob/main/%ED%94%BC%EB%93%9C%ED%8F%AC%EC%9B%8C%EB%93%9C_%EC%8B%A4%EC%8A%B5.ipynb\" target=\"_parent\"><img src=\"https://colab.research.google.com/assets/colab-badge.svg\" alt=\"Open In Colab\"/></a>"
      ]
    },
    {
      "cell_type": "code",
      "execution_count": null,
      "metadata": {
        "colab": {
          "base_uri": "https://localhost:8080/"
        },
        "id": "A6TzTZPd0d0v",
        "outputId": "299c98c5-8810-4f10-cf3b-df10e3e05145"
      },
      "outputs": [
        {
          "output_type": "stream",
          "name": "stdout",
          "text": [
            "a3=[0.86791106],y=1,Error(L2 Norm)=0.1320889431666068\n",
            "a3=[0.86558692],y=0,Error(L2 Norm)=0.8655869157685685\n",
            "a3=[0.88646036],y=0,Error(L2 Norm)=0.8864603591100296\n",
            "a3=[0.87614047],y=0,Error(L2 Norm)=0.8761404699439119\n",
            "a3=[0.88706408],y=1,Error(L2 Norm)=0.11293591605417319\n",
            "a3=[0.87968045],y=1,Error(L2 Norm)=0.12031955034372177\n",
            "a3=[0.8930494],y=0,Error(L2 Norm)=0.8930493962153497\n"
          ]
        }
      ],
      "source": [
        "import numpy as np\n",
        "\n",
        "# 활성화함수\n",
        "def sigmoid(x):\n",
        "  return 1/(1+np.exp(-x))\n",
        "\n",
        "# 피드포워드를 수정하는 함수\n",
        "def feed_forward(x,W1,W2,b1,b2):\n",
        "  # 입력 레이어\n",
        "  a1 = x\n",
        "  # 히든 레이어\n",
        "  z2 = np.dot(W1,a1)+b1\n",
        "  a2 = sigmoid(z2)\n",
        "  # 출력레이어\n",
        "  # a3에 신경망의 출력이 저장된다\n",
        "  z3 = np.dot(W2,a2)+b2\n",
        "  a3 = sigmoid(z3)\n",
        "\n",
        "  return a1,a2,a3,z2,z3\n",
        "\n",
        "# 신경망은 총 3개의 레이어로 구성되어\n",
        "# 입력 레이어의 노드 개수 3, 히든레이어 개수3, 출력레이어 개수 1\n",
        "node_size = {'input_layer_size':3,\n",
        "             'hidden_layer_size':3,\n",
        "             'output_layer_size':1\n",
        "             }\n",
        "\n",
        "# 초기 가중치 값으로 무작위 값을 사용\n",
        "# 각 넘파이 배열 생성 시 아규먼트에 포함되는 레이어 순서를 봐주면 된다.\n",
        "W2 = np.random.random((node_size['output_layer_size'], node_size['hidden_layer_size']))\n",
        "W1 = np.random.random((node_size['hidden_layer_size'], node_size['input_layer_size']))\n",
        "b2 = np.random.random(node_size['output_layer_size'])\n",
        "b1 = np.random.random(node_size['hidden_layer_size'])\n",
        "\n",
        "# 학습데이터 세트 (특성 X, 라벨 Y)\n",
        "X = np.array([[1,0,0],[0,0,1],[0,1,1],[1,0,1],[1,1,0],[0,1,0],[1,1,1]])\n",
        "Y = np.array([1,0,0,0,1,1,0])\n",
        "\n",
        "# 특성 하나인 x에 대해 피드포워드 수정\n",
        "# 라벨 하나인 y는 비용 계산을 위해 사용\n",
        "for x,y in zip(X,Y):\n",
        "  # 특성과 가중치를 사용하여 피드포워드를 수정하고 결과를 리턴 받는다\n",
        "  a1,a2,a3,z1,z2 = feed_forward(x,W1,W2,b1,b2)\n",
        "  # 신경망의 출력 a3와 라벨 y로부터 비용을 계산한다.\n",
        "  # L2 Norm 계산을 위해 넘파이에서 제공하는 함수를 사용\n",
        "  print('a3={},y={},Error(L2 Norm)={}'.format(a3,y,np.linalg.norm((y-a3),2)))"
      ]
    }
  ]
}
