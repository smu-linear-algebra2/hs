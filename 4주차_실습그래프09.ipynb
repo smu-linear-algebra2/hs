{
  "nbformat": 4,
  "nbformat_minor": 0,
  "metadata": {
    "colab": {
      "provenance": [],
      "authorship_tag": "ABX9TyPmVCKP1c2aJmtJUhvheqLc",
      "include_colab_link": true
    },
    "kernelspec": {
      "name": "python3",
      "display_name": "Python 3"
    },
    "language_info": {
      "name": "python"
    }
  },
  "cells": [
    {
      "cell_type": "markdown",
      "metadata": {
        "id": "view-in-github",
        "colab_type": "text"
      },
      "source": [
        "<a href=\"https://colab.research.google.com/github/smu-linear-algebra2/hs/blob/main/4%EC%A3%BC%EC%B0%A8_%EC%8B%A4%EC%8A%B5%EA%B7%B8%EB%9E%98%ED%94%8409.ipynb\" target=\"_parent\"><img src=\"https://colab.research.google.com/assets/colab-badge.svg\" alt=\"Open In Colab\"/></a>"
      ]
    },
    {
      "cell_type": "code",
      "execution_count": 1,
      "metadata": {
        "colab": {
          "base_uri": "https://localhost:8080/",
          "height": 438
        },
        "id": "WVtsnSfgt6mk",
        "outputId": "7e03b3c1-788c-4d27-e859-fc5b754f650d"
      },
      "outputs": [
        {
          "output_type": "stream",
          "name": "stdout",
          "text": [
            "4.0\n"
          ]
        },
        {
          "output_type": "display_data",
          "data": {
            "text/plain": [
              "<Figure size 640x480 with 1 Axes>"
            ],
            "image/png": "[encoded data removed]"
          },
          "metadata": {}
        }
      ],
      "source": [
        "import numpy as np\n",
        "import matplotlib.pyplot as plt\n",
        "import matplotlib.patches as patches\n",
        "\n",
        "points = np.array([[1,1],[1,2],[2,2],[2,1]])\n",
        "A = np.array([[2,0],[0,2]])\n",
        "\n",
        "fig = plt.figure()\n",
        "ax = fig.add_subplot(1,1,1)\n",
        "print(np.linalg.det(A))\n",
        "\n",
        "ax.add_patch(patches.Polygon(points, fill=False, color='blue', zorder=1))\n",
        "ax.add_patch(patches.Polygon(np.dot(points,A), fill=False, color='red', zorder=2))\n",
        "ax.text(1.4,1.4,'A',size=15)\n",
        "ax.text(2.9,2.9,'B',size=15)\n",
        "ax.set_xticks(range(-1,6))\n",
        "ax.set_yticks(range(-1,6))\n",
        "ax.grid()\n",
        "ax.set_axisbelow(True)\n",
        "ax.set_aspect('auto', adjustable='box')\n",
        "ax.spines['left'].set_position('zero')\n",
        "ax.spines['bottom'].set_position('zero')\n",
        "ax.spines['right'].set_color('none')\n",
        "ax.spines['top'].set_color('none')\n",
        "plt.show()"
      ]
    }
  ]
}